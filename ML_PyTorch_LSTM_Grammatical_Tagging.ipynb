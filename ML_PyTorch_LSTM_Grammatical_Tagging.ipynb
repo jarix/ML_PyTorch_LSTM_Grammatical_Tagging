{
 "cells": [
  {
   "cell_type": "markdown",
   "metadata": {},
   "source": [
    "# Grammatical Tagging with LSTM"
   ]
  },
  {
   "cell_type": "markdown",
   "metadata": {},
   "source": [
    "Create a Recursive Neural Network (RNN) to determine the major 9 categories of words in a sentence: \n",
    "- Noun\n",
    "- Verb\n",
    "- Article\n",
    "- Adjective \n",
    "- Preposition \n",
    "- Pronoun \n",
    "- Adverb \n",
    "- Conjunction\n",
    "- Interjection\n",
    "\n",
    "As this is a simplified example to experiment with Long Short-Term Memory (LSTM) neural network, it will only uses a subset of the 9 categories.  Secifically juss the following 5 catecories:\n",
    "- Noun (N)\n",
    "- Verb (V)\n",
    "- Article (ART)\n",
    "- Adjective (ADJ)\n",
    "- Pronoun (PRO)\n",
    "\n",
    "With this we can just can just analyze simple sentences, such as \"I like McDonalds\""
   ]
  },
  {
   "cell_type": "markdown",
   "metadata": {},
   "source": [
    "## Prerequisites"
   ]
  },
  {
   "cell_type": "code",
   "execution_count": 1,
   "metadata": {},
   "outputs": [
    {
     "name": "stdout",
     "output_type": "stream",
     "text": [
      "Python version:  3.6.10\n",
      "Torch version:  1.5.0\n"
     ]
    }
   ],
   "source": [
    "import platform\n",
    "import numpy as np\n",
    "import matplotlib.pyplot as plt\n",
    "import torch\n",
    "import torch.nn as nn\n",
    "import torch.nn.functional as F\n",
    "import torch.optim as optim\n",
    "\n",
    "%matplotlib inline\n",
    "\n",
    "print(\"Python version: \", platform.python_version())\n",
    "print(\"Torch version: \", torch.__version__)"
   ]
  },
  {
   "cell_type": "markdown",
   "metadata": {},
   "source": [
    "## Make up some simple sentences as Training Data"
   ]
  },
  {
   "cell_type": "code",
   "execution_count": 2,
   "metadata": {},
   "outputs": [
    {
     "name": "stdout",
     "output_type": "stream",
     "text": [
      "{'the': 0, 'cat': 1, 'caught': 2, 'mouse': 3, 'loves': 4, 'cheese': 5, 'dog': 6, 'hates': 7, 'sleeps': 8, 'is': 9, 'black': 10, 'white': 11, 'runs': 12, 'i': 13, 'like': 14, 'yellow': 15, 'you': 16, 'she': 17, 'watches': 18, 'tv': 19}\n",
      "{'N': 0, 'V': 1, 'ART': 2, 'ADJ': 3, 'PRO': 4}\n"
     ]
    }
   ],
   "source": [
    "# Create a list of some simple sentences as training data and the category tags\n",
    "training_sentences = [\n",
    "    (\"The cat caught the mouse\".lower().split(), [\"ART\", \"N\", \"V\", \"ART\", \"N\"]),\n",
    "    (\"The mouse loves cheese\".lower().split(), [\"ART\", \"N\", \"V\", \"N\"]),\n",
    "    (\"The dog hates the cat\".lower().split(), [\"ART\", \"N\", \"V\", \"ART\", \"N\"]),\n",
    "    (\"The dog sleeps\".lower().split(), [\"ART\", \"N\", \"V\"]),\n",
    "    (\"The cat is black\".lower().split(), [\"ART\", \"N\", \"V\", \"ADJ\"]),\n",
    "    (\"The dog is white\".lower().split(), [\"ART\", \"N\", \"V\", \"ADJ\"]),\n",
    "    (\"The cat runs\".lower().split(), [\"ART\", \"N\", \"V\"]),\n",
    "    (\"I like cheese\".lower().split(), [\"PRO\", \"N\", \"V\"]),\n",
    "    (\"The cheese is yellow\".lower().split(), [\"ART\", \"N\", \"V\", \"ADJ\"]),\n",
    "    (\"You like the cat\".lower().split(), [\"PRO\", \"V\", \"ART\", \"N\"]),\n",
    "    (\"She watches TV\".lower().split(), [\"PRO\", \"V\", \"N\"])\n",
    "]\n",
    "\n",
    "# print(training_sentences)\n",
    "\n",
    "# Dictionary to map words to indices\n",
    "word_index = {}\n",
    "for sentence, tags in training_sentences:\n",
    "    for word in sentence:\n",
    "        if word not in word_index:\n",
    "            word_index[word] = len(word_index)\n",
    "            \n",
    "print(word_index)\n",
    "\n",
    "# Dictionary to map tags to indices\n",
    "tag_index = {\"N\": 0, \"V\": 1, \"ART\": 2, \"ADJ\": 3, \"PRO\": 4 }\n",
    "print(tag_index)"
   ]
  },
  {
   "cell_type": "code",
   "execution_count": 3,
   "metadata": {},
   "outputs": [
    {
     "name": "stdout",
     "output_type": "stream",
     "text": [
      "tensor([13, 14,  5])\n"
     ]
    }
   ],
   "source": [
    "# Convert a sentence to a numerical tensor\n",
    "def sentence2tensor(sentence, to_index):\n",
    "    '''Convert a word sentence to numerical tensor'''\n",
    "    indexes = [to_index[word] for word in sentence]\n",
    "    indexes = np.array(indexes)\n",
    "    return torch.from_numpy(indexes).type(torch.LongTensor)\n",
    "\n",
    "# Check the the tensor conversion\n",
    "sample_tensor = sentence2tensor(\"I like cheese\".lower().split(), word_index)\n",
    "print(sample_tensor)"
   ]
  },
  {
   "cell_type": "markdown",
   "metadata": {},
   "source": [
    "## Define the LSTM Neural Network"
   ]
  },
  {
   "cell_type": "markdown",
   "metadata": {},
   "source": [
    "Simple LSTM that takes in a sentence broken down to sqeuence of words.  The words in the sentence are all from known words list. The network will predict that categories for the words in the sentence.  The prediction is done by applying softmax to the hidden state of the LSTM.  The first layer of the model is an Embeddeding layer."
   ]
  },
  {
   "cell_type": "code",
   "execution_count": 4,
   "metadata": {},
   "outputs": [],
   "source": [
    "class GrammaticalTagger(nn.Module):\n",
    "    \n",
    "    def __init__(self, embedding_dim, hidden_dim, vocabulary_size, tagset_size):\n",
    "        '''Init'''\n",
    "        super(GrammaticalTagger, self).__init__()\n",
    "        \n",
    "        self.hidden_dim = hidden_dim\n",
    "        \n",
    "        # Embedding layer turning words into a specificied size vector\n",
    "        self.word_embeddings = nn.Embedding(vocabulary_size, embedding_dim)\n",
    "        \n",
    "        # LSTM layer takes embedded word vectors as inputs and output hidden states\n",
    "        self.lstm = nn.LSTM(embedding_dim, hidden_dim)\n",
    "        \n",
    "        # Linear layer maps hidden layer into the output layer with the number of tags\n",
    "        self.hidden2tag = nn.Linear(hidden_dim, tagset_size)\n",
    "        \n",
    "        # Initialize hidden state\n",
    "        self.hidden = self.init_hidden()\n",
    "        \n",
    "    def init_hidden(self):\n",
    "        '''Initialize the hidden state'''\n",
    "        # (number of layers, batch size, hidden_dim)\n",
    "        return (torch.zeros(1, 1, self.hidden_dim), torch.zeros(1, 1, self.hidden_dim))\n",
    "    \n",
    "    def forward(self, sentence):\n",
    "        '''Model feedfoward inference'''\n",
    "        # first create embedded word vectors\n",
    "        embeds = self.word_embeddings(sentence)\n",
    "        \n",
    "        # Get Output and hidden states \n",
    "        lstm_out, self.hidden = self.lstm(embeds.view(len(sentence), 1, -1), self.hidden)\n",
    "        \n",
    "        # Get the scores for tags\n",
    "        tag_outputs = self.hidden2tag(lstm_out.view(len(sentence), -1))\n",
    "        tag_scores = F.log_softmax(tag_outputs, dim=1)\n",
    "        \n",
    "        return tag_scores\n",
    "                        "
   ]
  },
  {
   "cell_type": "markdown",
   "metadata": {},
   "source": [
    "## Instantiate model and set hyper parameters"
   ]
  },
  {
   "cell_type": "code",
   "execution_count": 5,
   "metadata": {},
   "outputs": [],
   "source": [
    "# Embedding_dim defines the size of word vectors\n",
    "embeddeding_dim = 6\n",
    "hidden_dim = 6\n",
    "\n",
    "# Instantiate model\n",
    "tagger_model = GrammaticalTagger(embeddeding_dim, hidden_dim, len(word_index), len(tag_index))\n",
    "                                \n",
    "# Define loss function and optimizer\n",
    "loss_function = nn.NLLLoss()\n",
    "optimizer = optim.SGD(tagger_model.parameters(), lr=0.1)\n"
   ]
  },
  {
   "cell_type": "markdown",
   "metadata": {},
   "source": [
    "## Sanity Check\n",
    "\n",
    "Pass a test sentence thru just to check that we get a reasonable response thru forward pass"
   ]
  },
  {
   "cell_type": "code",
   "execution_count": 6,
   "metadata": {},
   "outputs": [
    {
     "name": "stdout",
     "output_type": "stream",
     "text": [
      "Input_tensor:  tensor([0, 6, 2, 0, 1])\n",
      "tensor([[-1.8660, -1.3212, -1.9169, -1.7903, -1.3301],\n",
      "        [-1.8355, -1.2306, -2.0042, -1.8759, -1.3456],\n",
      "        [-1.8811, -1.3204, -1.9167, -1.7908, -1.3220],\n",
      "        [-1.8858, -1.2962, -1.9018, -1.7942, -1.3503],\n",
      "        [-1.8558, -1.3091, -1.9910, -1.7990, -1.3035]],\n",
      "       grad_fn=<LogSoftmaxBackward>)\n"
     ]
    }
   ],
   "source": [
    "test_sentence = \"The dog caught the cat\".lower().split()\n",
    "\n",
    "input_tensor = sentence2tensor(test_sentence, word_index)\n",
    "print(\"Input_tensor: \", input_tensor)\n",
    "\n",
    "tag_scores = tagger_model(input_tensor)\n",
    "print(tag_scores)"
   ]
  },
  {
   "cell_type": "markdown",
   "metadata": {},
   "source": [
    "## Training\n",
    "\n",
    "Loop thru large number of epochs as we have such a small number of training samples. Peform typical training tasks: Zero the gradients, initialize the hidden state, feed training data forward thru network, calculate error, update weights thru backpropagation.  Rinse and repeat.  "
   ]
  },
  {
   "cell_type": "code",
   "execution_count": 7,
   "metadata": {},
   "outputs": [
    {
     "name": "stdout",
     "output_type": "stream",
     "text": [
      "Epoch #  25 loss:  1.0027798305858264\n",
      "Epoch #  50 loss:  0.5931678847833113\n",
      "Epoch #  75 loss:  0.2780598137866367\n",
      "Epoch #  100 loss:  0.09165386483073235\n",
      "Epoch #  125 loss:  0.042576139962131325\n",
      "Epoch #  150 loss:  0.02742708292366429\n",
      "Epoch #  175 loss:  0.02015267460691658\n",
      "Epoch #  200 loss:  0.015891543293202467\n",
      "Epoch #  225 loss:  0.013096884993666952\n",
      "Epoch #  250 loss:  0.0111245309129696\n",
      "Epoch #  275 loss:  0.009658936940302903\n",
      "Epoch #  300 loss:  0.008527391209182415\n",
      "Epoch #  325 loss:  0.007627664493735541\n",
      "Epoch #  350 loss:  0.006895272717387838\n",
      "Epoch #  375 loss:  0.006287553823891689\n",
      "Epoch #  400 loss:  0.005775286964225498\n",
      "Epoch #  425 loss:  0.0053376929665153675\n",
      "Epoch #  450 loss:  0.004959619551135058\n",
      "Epoch #  475 loss:  0.004629754736511545\n",
      "Epoch #  500 loss:  0.004339499462565238\n"
     ]
    }
   ],
   "source": [
    "num_epochs = 500\n",
    "\n",
    "for epoch in range(num_epochs):\n",
    "    \n",
    "    epoch_loss = 0.0\n",
    "    \n",
    "    # Loop over sentences and tags in training data\n",
    "    for sentence, tags in training_sentences:\n",
    "                \n",
    "        # Zero gradients\n",
    "        tagger_model.zero_grad()\n",
    "        \n",
    "        # Zero the hidden state, remove history\n",
    "        tagger_model.hidden = tagger_model.init_hidden()\n",
    "        \n",
    "        # Prepare inputs for the network\n",
    "        input_tensor = sentence2tensor(sentence, word_index)\n",
    "        #print(\"Input Tensor: \", input_tensor)\n",
    "        target_tags = sentence2tensor(tags, tag_index)\n",
    "        #print(\"Target Scores: \", target_scores)\n",
    "\n",
    "        # Run forward pass\n",
    "        result_tags = tagger_model(input_tensor)\n",
    "        \n",
    "        # Compute loss and gradient\n",
    "        loss = loss_function(result_tags, target_tags)\n",
    "        epoch_loss += loss.item()\n",
    "        loss.backward()\n",
    "        \n",
    "        # Update network weights\n",
    "        optimizer.step()\n",
    "        \n",
    "    # Print out loss for every 25 epochs\n",
    "    if (epoch % 25 == 24):\n",
    "        print(\"Epoch # \", epoch+1, \"loss: \", epoch_loss/len(training_sentences))\n",
    "        "
   ]
  },
  {
   "cell_type": "markdown",
   "metadata": {},
   "source": [
    "## Testing"
   ]
  },
  {
   "cell_type": "code",
   "execution_count": 12,
   "metadata": {},
   "outputs": [
    {
     "name": "stdout",
     "output_type": "stream",
     "text": [
      "Result Tensor:\n",
      "tensor([[-4.8152e+00, -1.0538e+00, -5.5886e+00, -6.5666e+00, -4.4921e-01],\n",
      "        [-5.5098e-02, -3.0479e+00, -8.6860e+00, -6.3506e+00, -5.4643e+00],\n",
      "        [-5.5126e+00, -5.2395e+00, -1.0135e-02, -8.2610e+00, -7.6262e+00],\n",
      "        [-3.1144e-03, -5.9378e+00, -8.0129e+00, -9.1729e+00, -1.0213e+01]],\n",
      "       grad_fn=<LogSoftmaxBackward>)\n",
      "Predicted Categories:\n",
      "tensor([4, 0, 2, 0])\n",
      "Should have been: 4, 1, 2, 0\n"
     ]
    }
   ],
   "source": [
    "test_sentence = \"I like the dog\".lower().split()\n",
    "\n",
    "# Run thru the network \n",
    "input_tensor = sentence2tensor(test_sentence, word_index)\n",
    "result_tags = tagger_model(input_tensor)\n",
    "print(\"Result Tensor:\")\n",
    "print(result_tags)\n",
    "\n",
    "# Get the maximum score for most likely result\n",
    "_, predicted_tags = torch.max(result_tags, 1)\n",
    "print(\"Predicted Categories:\")\n",
    "print(predicted_tags)\n",
    "#tag_index = {\"N\": 0, \"V\": 1, \"ART\": 2, \"ADJ\": 3, \"PRO\": 4 }\n",
    "print(\"Should have been: 4, 1, 2, 0\")"
   ]
  },
  {
   "cell_type": "code",
   "execution_count": null,
   "metadata": {},
   "outputs": [],
   "source": []
  }
 ],
 "metadata": {
  "kernelspec": {
   "display_name": "Python 3",
   "language": "python",
   "name": "python3"
  },
  "language_info": {
   "codemirror_mode": {
    "name": "ipython",
    "version": 3
   },
   "file_extension": ".py",
   "mimetype": "text/x-python",
   "name": "python",
   "nbconvert_exporter": "python",
   "pygments_lexer": "ipython3",
   "version": "3.6.10"
  }
 },
 "nbformat": 4,
 "nbformat_minor": 4
}
